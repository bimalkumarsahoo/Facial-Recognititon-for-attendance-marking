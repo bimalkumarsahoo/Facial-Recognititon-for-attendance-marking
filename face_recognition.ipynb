{
 "cells": [
  {
   "cell_type": "code",
   "execution_count": 144,
   "metadata": {
    "collapsed": true
   },
   "outputs": [],
   "source": [
    "import os\n",
    "import sys\n",
    "import pandas as pd"
   ]
  },
  {
   "cell_type": "code",
   "execution_count": 145,
   "metadata": {},
   "outputs": [],
   "source": [
    "import numpy as np\n",
    "import gzip\n",
    "import os\n",
    "#from dataset import one_hot_encoded\n",
    "#from download import download\n",
    "import cv2\n",
    "import glob\n",
    "from sklearn.model_selection import train_test_split\n",
    "import random"
   ]
  },
  {
   "cell_type": "code",
   "execution_count": 146,
   "metadata": {},
   "outputs": [
    {
     "name": "stdout",
     "output_type": "stream",
     "text": [
      "enter subject codece31501\n"
     ]
    }
   ],
   "source": [
    "class students:\n",
    "  \n",
    "    # The images are 50 pixels in each dimension.\n",
    "    img_size = 50\n",
    "\n",
    "    # The images are stored in one-dimensional arrays of this length.\n",
    "    img_size_flat = img_size * img_size\n",
    "\n",
    "    # Tuple with height and width of images used to reshape arrays.\n",
    "    img_shape = (img_size, img_size)\n",
    "\n",
    "    # Number of colour channels for the images: 1 channel for gray-scale.\n",
    "    num_channels = 1\n",
    "\n",
    "    # Tuple with height, width and depth used to reshape arrays.\n",
    "    # This is used for reshaping in Keras.\n",
    "    img_shape_full = (img_size, img_size, num_channels)\n",
    "\n",
    "    # Number of classes, one class for each of 10 digits.\n",
    "    # num_classes = \n",
    "    dirc = input(\"enter subject code\")\n",
    "    def __init__(self):\n",
    "      \n",
    "\n",
    "        \n",
    "        \n",
    "        cv_img_train = []\n",
    "        class_name = []\n",
    "        m=0\n",
    "        for img in glob.glob(\"/home/rohit/tmp/project_tensorflow/\"+self.dirc+\"/*/*.jpg\"):\n",
    "            i= cv2.imread(img)\n",
    "            if type(i) != np.ndarray:\n",
    "                continue\n",
    "            m=m+1;\n",
    "        #img_size_flat = self.img_size*self.img_size    \n",
    "        images = np.zeros((m,self.img_size_flat))\n",
    "        n=0\n",
    "        for img in glob.glob(\"/home/rohit/tmp/project_tensorflow/\"+self.dirc+\"/*/*.jpg\"):        \n",
    "            i= cv2.imread(img)\n",
    "            if type(i) != np.ndarray:\n",
    "                continue\n",
    "            i = cv2.cvtColor(i, cv2.COLOR_BGR2GRAY)\n",
    "            i=cv2.resize(i, (self.img_size, self.img_size))\n",
    "            i = i.flatten() \n",
    "            images[n]= i\n",
    "            n=n+1\n",
    "            class_name.append(img.split('/')[6])\n",
    "                \n",
    "               \n",
    "         \n",
    "        unique_class = set(class_name)\n",
    "        unique_class = list(unique_class)\n",
    "        print(\"printing roll no. of registered students : \")\n",
    "        print(unique_class)\n",
    "        self.num_classes = len(np.unique(unique_class))\n",
    "        print(\"printing number of registered students :  \")\n",
    "        print(self.num_classes)\n",
    "        \n",
    "        x_train = images\n",
    "        #print(\"x_train.shape %d\",x_train.shape)\n",
    "        #x_train =x_train.reshape(-1, self.img_size_flat)\n",
    "        y_train_cls=np.asarray(class_name)\n",
    "        #u=np.unique(y_train_cls)\n",
    "        #print(np.unique(y_train_cls))\n",
    "        \n",
    "        \n",
    "        \n",
    "        self.num_train = len(x_train)\n",
    "        print(\"length of training set :  \",self.num_train)\n",
    "        #num = int(num*0.75)\n",
    "        # self.num_val = self.train_length - self.num_train\n",
    "         \n",
    "        correct_vals = np.zeros((m,self.num_classes))\n",
    "        \n",
    "        y_train = np.zeros(m)\n",
    "        d={k: v for v, k in enumerate(unique_class)}\n",
    "        self.d = d\n",
    "        print(\"keys assigned to different roll numbers :  \")\n",
    "        print(d)\n",
    "        for i in range(0,len(y_train_cls)):\n",
    "            for breed,index in d.items():\n",
    "                if breed == y_train_cls[i]:\n",
    "                    y_train[i]=index\n",
    "                    correct_val = np.zeros((self.num_classes))\n",
    "                    correct_val[index] = 1\n",
    "                    correct_vals[i] = correct_val\n",
    "                     \n",
    "        #print(correct_vals.shape)\n",
    "        #print(num)\n",
    "        y_train_cls= correct_vals\n",
    "        #print(len(y_train_cls))\n",
    "            \n",
    "        \n",
    "       \n",
    "        self.x_train = x_train[0:self.num_train] / 255.0\n",
    "        self.y_train_cls = y_train_cls[0:self.num_train]\n",
    "        self.y_train = y_train[0:self.num_train]\n",
    "        \n",
    "        \n",
    "    def random_batch(self, batch_size=32):\n",
    "        \"\"\"\n",
    "        Create a random batch of training-data.\n",
    "        :param batch_size: Number of images in the batch.\n",
    "        :return: 3 numpy arrays (x, y, y_cls)\n",
    "        \"\"\"\n",
    "        act_idx=np.arange(self.num_train)\n",
    "        # Create a random index into the training-set.\n",
    "        idx = np.random.choice(self.num_train, batch_size, replace=False)\n",
    "        non_idx = np.setdiff1d(act_idx, idx)\n",
    "        \n",
    "       \n",
    "\n",
    "      \n",
    "        # Use the index to lookup random training-data.\n",
    "        x_batch = self.x_train[idx]\n",
    "        y_batch_cls = self.y_train_cls[idx]\n",
    "        x_batch_test = self.x_train[non_idx]\n",
    "        y_batch_cls_test = self.y_train_cls[non_idx]\n",
    "        y_test = self.y_train[non_idx]\n",
    "        #y_batch_cls = self.y_train_cls[idx]\n",
    "        \n",
    "        \n",
    "        #X_train, X_test, y_train, y_test = train_test_split(\n",
    "        #  self.x_train, self.y_train_cls, test_size=batch_size, random_state=42)\n",
    "\n",
    "        return x_batch, y_batch_cls, x_batch_test,y_batch_cls_test,y_test\n",
    "\n"
   ]
  },
  {
   "cell_type": "code",
   "execution_count": 147,
   "metadata": {},
   "outputs": [
    {
     "name": "stdout",
     "output_type": "stream",
     "text": [
      "printing roll no. of registered students : \n",
      "['16CE30005', '17AE3FP08', '17IM10030', '17IM30010', '17AE10023', '17AE10025', '16CE30020', '17MA20006', '17IM10015']\n",
      "printing number of registered students :  \n",
      "9\n",
      "length of training set :   798\n",
      "keys assigned to different roll numbers :  \n",
      "{'16CE30005': 0, '17AE3FP08': 1, '17IM10030': 2, '17IM30010': 3, '17AE10023': 4, '17AE10025': 5, '16CE30020': 6, '17MA20006': 7, '17IM10015': 8}\n"
     ]
    }
   ],
   "source": [
    "data = students()"
   ]
  },
  {
   "cell_type": "code",
   "execution_count": 148,
   "metadata": {
    "collapsed": true
   },
   "outputs": [],
   "source": [
    "%matplotlib inline\n",
    "import matplotlib.pyplot as plt\n",
    "import tensorflow as tf\n",
    "import numpy as np\n",
    "from sklearn.metrics import confusion_matrix\n",
    "import time\n",
    "from datetime import timedelta\n",
    "import math"
   ]
  },
  {
   "cell_type": "code",
   "execution_count": 149,
   "metadata": {},
   "outputs": [
    {
     "name": "stdout",
     "output_type": "stream",
     "text": [
      "img_size :  50\n",
      "img_size_flat :  2500\n",
      "img_shape :  (50, 50)\n",
      "num_classes :  9\n",
      "num_channels :  1\n"
     ]
    }
   ],
   "source": [
    "img_size = data.img_size\n",
    "print(\"img_size : \",img_size)\n",
    "# The images are stored in one-dimensional arrays of this length.\n",
    "img_size_flat = data.img_size_flat\n",
    "print(\"img_size_flat : \",img_size_flat)\n",
    "# Tuple with height and width of images used to reshape arrays.\n",
    "img_shape = data.img_shape\n",
    "print(\"img_shape : \",img_shape )\n",
    "# Number of classes, one class for each of 10 digits.\n",
    "num_classes = data.num_classes\n",
    "print(\"num_classes : \",num_classes)\n",
    "# Number of colour channels for the images: 1 channel for gray-scale.\n",
    "num_channels = data.num_channels\n",
    "print(\"num_channels : \",num_channels)"
   ]
  },
  {
   "cell_type": "code",
   "execution_count": 150,
   "metadata": {
    "collapsed": true
   },
   "outputs": [],
   "source": [
    "def new_weights(shape):\n",
    "    return tf.Variable(tf.truncated_normal(shape, stddev=0.05))\n",
    "def new_biases(length):\n",
    "    return tf.Variable(tf.constant(0.05, shape=[length]))"
   ]
  },
  {
   "cell_type": "code",
   "execution_count": 151,
   "metadata": {
    "collapsed": true
   },
   "outputs": [],
   "source": [
    "def new_conv_layer(input,              # The previous layer.\n",
    "                   num_input_channels, # Num. channels in prev. layer.\n",
    "                   filter_size,        # Width and height of each filter.\n",
    "                   num_filters,        # Number of filters.\n",
    "                   use_pooling=True):  # Use 2x2 max-pooling.\n",
    "\n",
    "    # Shape of the filter-weights for the convolution.\n",
    "    # This format is determined by the TensorFlow API.\n",
    "    shape = [filter_size, filter_size, num_input_channels, num_filters]\n",
    "\n",
    "    # Create new weights aka. filters with the given shape.\n",
    "    weights = new_weights(shape=shape)\n",
    "\n",
    "    # Create new biases, one for each filter.\n",
    "    biases = new_biases(length=num_filters)\n",
    "\n",
    "    # Create the TensorFlow operation for convolution.\n",
    "    # Note the strides are set to 1 in all dimensions.\n",
    "    \n",
    "    # The padding is set to 'SAME' which means the input image\n",
    "    # is padded with zeroes so the size of the output is the same.\n",
    "    layer = tf.nn.conv2d(input=input,\n",
    "                         filter=weights,\n",
    "                         strides=[1, filter_size/2, filter_size/2, 1],\n",
    "                         padding='SAME')\n",
    "\n",
    "    # Add the biases to the results of the convolution.\n",
    "    # A bias-value is added to each filter-channel.\n",
    "    layer += biases\n",
    "\n",
    "    # Use pooling to down-sample the image resolution?\n",
    "    if use_pooling:\n",
    "        # This is 2x2 max-pooling, which means that we\n",
    "        # consider 2x2 windows and select the largest value\n",
    "        # in each window. Then we move 2 pixels to the next window.\n",
    "        layer = tf.nn.max_pool(value=layer,\n",
    "                               ksize=[1, 2, 2, 1],\n",
    "                               strides=[1, 2, 2, 1],\n",
    "                               padding='SAME')\n",
    "\n",
    "    # Rectified Linear Unit (ReLU).\n",
    "    # It calculates max(x, 0) for each input pixel x.\n",
    "    # This adds some non-linearity to the formula and allows us\n",
    "    # to learn more complicated functions.\n",
    "    layer = tf.nn.relu(layer)\n",
    "\n",
    "    \n",
    "\n",
    "    # We return both the resulting layer and the filter-weights\n",
    "    # because we will plot the weights later.\n",
    "    return layer, weights"
   ]
  },
  {
   "cell_type": "code",
   "execution_count": 152,
   "metadata": {
    "collapsed": true
   },
   "outputs": [],
   "source": [
    "def flatten_layer(layer):\n",
    "    # Get the shape of the input layer.\n",
    "    layer_shape = layer.get_shape()\n",
    "    print(layer_shape)\n",
    "    \n",
    "    # The shape of the input layer is assumed to be:\n",
    "    # layer_shape == [num_images, img_height, img_width, num_channels]\n",
    "\n",
    "    # The number of features is: img_height * img_width * num_channels\n",
    "    # We can use a function from TensorFlow to calculate this.\n",
    "    num_features = layer_shape[1:4].num_elements()\n",
    "    print(num_features)\n",
    "    # Reshape the layer to [num_images, num_features].\n",
    "    # Note that we just set the size of the second dimension\n",
    "    # to num_features and the size of the first dimension to -1\n",
    "    # which means the size in that dimension is calculated\n",
    "    # so the total size of the tensor is unchanged from the reshaping.\n",
    "    layer_flat = tf.reshape(layer, [-1, num_features])\n",
    "    print(layer_flat.shape)\n",
    "    # The shape of the flattened layer is now:\n",
    "    # [num_images, img_height * img_width * num_channels]\n",
    "\n",
    "    # Return both the flattened layer and the number of features.\n",
    "    return layer_flat, num_features"
   ]
  },
  {
   "cell_type": "code",
   "execution_count": 153,
   "metadata": {
    "collapsed": true
   },
   "outputs": [],
   "source": [
    "def new_fc_layer(input,          # The previous layer.\n",
    "                 num_inputs,     # Num. inputs from prev. layer.\n",
    "                 num_outputs,    # Num. outputs.\n",
    "                 use_relu=True): # Use Rectified Linear Unit (ReLU)?\n",
    "\n",
    "    # Create new weights and biases.\n",
    "    weights = new_weights(shape=[num_inputs, num_outputs])\n",
    "    biases = new_biases(length=num_outputs)\n",
    "\n",
    "    # Calculate the layer as the matrix multiplication of\n",
    "    # the input and weights, and then add the bias-values.\n",
    "    layer = tf.matmul(input, weights) + biases\n",
    "\n",
    "    # Use ReLU?\n",
    "    if use_relu:\n",
    "        layer = tf.nn.relu(layer)\n",
    "\n",
    "    return layer"
   ]
  },
  {
   "cell_type": "code",
   "execution_count": 154,
   "metadata": {},
   "outputs": [
    {
     "data": {
      "text/plain": [
       "TensorShape([Dimension(None), Dimension(2500)])"
      ]
     },
     "execution_count": 154,
     "metadata": {},
     "output_type": "execute_result"
    }
   ],
   "source": [
    "x = tf.placeholder(tf.float32, shape=[None, img_size_flat], name='x')\n",
    "x.shape"
   ]
  },
  {
   "cell_type": "code",
   "execution_count": 155,
   "metadata": {},
   "outputs": [
    {
     "data": {
      "text/plain": [
       "TensorShape([Dimension(None), Dimension(50), Dimension(50), Dimension(1)])"
      ]
     },
     "execution_count": 155,
     "metadata": {},
     "output_type": "execute_result"
    }
   ],
   "source": [
    "x_image = tf.reshape(x, [-1, img_size, img_size, num_channels])\n",
    "x_image.shape"
   ]
  },
  {
   "cell_type": "code",
   "execution_count": 156,
   "metadata": {},
   "outputs": [
    {
     "data": {
      "text/plain": [
       "TensorShape([Dimension(None), Dimension(9)])"
      ]
     },
     "execution_count": 156,
     "metadata": {},
     "output_type": "execute_result"
    }
   ],
   "source": [
    "y_true = tf.placeholder(tf.float32, shape=[None, num_classes], name='y_true')\n",
    "y_true.shape"
   ]
  },
  {
   "cell_type": "code",
   "execution_count": 157,
   "metadata": {},
   "outputs": [
    {
     "data": {
      "text/plain": [
       "<tf.Tensor 'ArgMax_4:0' shape=(?,) dtype=int64>"
      ]
     },
     "execution_count": 157,
     "metadata": {},
     "output_type": "execute_result"
    }
   ],
   "source": [
    "y_true_cls = tf.argmax(y_true, axis=1)\n",
    "y_true_cls\n"
   ]
  },
  {
   "cell_type": "code",
   "execution_count": 158,
   "metadata": {
    "collapsed": true
   },
   "outputs": [],
   "source": [
    "layer_conv1, weights_conv1 = \\\n",
    "    new_conv_layer(input=x_image,\n",
    "                   num_input_channels=num_channels,\n",
    "                   filter_size=5,\n",
    "                   num_filters=16,\n",
    "                   use_pooling=True)"
   ]
  },
  {
   "cell_type": "code",
   "execution_count": 159,
   "metadata": {},
   "outputs": [
    {
     "data": {
      "text/plain": [
       "<tf.Tensor 'Relu_6:0' shape=(?, 13, 13, 16) dtype=float32>"
      ]
     },
     "execution_count": 159,
     "metadata": {},
     "output_type": "execute_result"
    }
   ],
   "source": [
    "layer_conv1"
   ]
  },
  {
   "cell_type": "code",
   "execution_count": 160,
   "metadata": {
    "collapsed": true
   },
   "outputs": [],
   "source": [
    "layer_conv2, weights_conv2 = \\\n",
    "    new_conv_layer(input=layer_conv1,\n",
    "                   num_input_channels=16,\n",
    "                   filter_size=3,\n",
    "                   num_filters=36,\n",
    "                   use_pooling=True)"
   ]
  },
  {
   "cell_type": "code",
   "execution_count": 161,
   "metadata": {},
   "outputs": [
    {
     "data": {
      "text/plain": [
       "<tf.Tensor 'Relu_7:0' shape=(?, 7, 7, 36) dtype=float32>"
      ]
     },
     "execution_count": 161,
     "metadata": {},
     "output_type": "execute_result"
    }
   ],
   "source": [
    "layer_conv2"
   ]
  },
  {
   "cell_type": "code",
   "execution_count": 162,
   "metadata": {
    "scrolled": true
   },
   "outputs": [
    {
     "name": "stdout",
     "output_type": "stream",
     "text": [
      "(?, 7, 7, 36)\n",
      "1764\n",
      "(?, 1764)\n"
     ]
    },
    {
     "data": {
      "text/plain": [
       "<tf.Tensor 'Reshape_5:0' shape=(?, 1764) dtype=float32>"
      ]
     },
     "execution_count": 162,
     "metadata": {},
     "output_type": "execute_result"
    }
   ],
   "source": [
    "layer_flat, num_features = flatten_layer(layer_conv2)\n",
    "layer_flat"
   ]
  },
  {
   "cell_type": "code",
   "execution_count": 163,
   "metadata": {},
   "outputs": [],
   "source": [
    "layer_fc1 = new_fc_layer(input=layer_flat,\n",
    "                         num_inputs=num_features,\n",
    "                         num_outputs=128,\n",
    "                         use_relu=True)"
   ]
  },
  {
   "cell_type": "code",
   "execution_count": 164,
   "metadata": {},
   "outputs": [
    {
     "data": {
      "text/plain": [
       "<tf.Tensor 'Relu_8:0' shape=(?, 128) dtype=float32>"
      ]
     },
     "execution_count": 164,
     "metadata": {},
     "output_type": "execute_result"
    }
   ],
   "source": [
    "layer_fc1"
   ]
  },
  {
   "cell_type": "code",
   "execution_count": 165,
   "metadata": {
    "collapsed": true
   },
   "outputs": [],
   "source": [
    "layer_fc2 = new_fc_layer(input=layer_fc1,\n",
    "                         num_inputs=128,\n",
    "                         num_outputs=num_classes,\n",
    "                         use_relu=False)"
   ]
  },
  {
   "cell_type": "code",
   "execution_count": 166,
   "metadata": {},
   "outputs": [
    {
     "data": {
      "text/plain": [
       "<tf.Tensor 'add_11:0' shape=(?, 9) dtype=float32>"
      ]
     },
     "execution_count": 166,
     "metadata": {},
     "output_type": "execute_result"
    }
   ],
   "source": [
    "layer_fc2"
   ]
  },
  {
   "cell_type": "code",
   "execution_count": 167,
   "metadata": {},
   "outputs": [
    {
     "data": {
      "text/plain": [
       "<tf.Tensor 'Softmax_2:0' shape=(?, 9) dtype=float32>"
      ]
     },
     "execution_count": 167,
     "metadata": {},
     "output_type": "execute_result"
    }
   ],
   "source": [
    "y_pred = tf.nn.softmax(layer_fc2)\n",
    "y_pred"
   ]
  },
  {
   "cell_type": "code",
   "execution_count": 168,
   "metadata": {},
   "outputs": [
    {
     "data": {
      "text/plain": [
       "<tf.Tensor 'ArgMax_5:0' shape=(?,) dtype=int64>"
      ]
     },
     "execution_count": 168,
     "metadata": {},
     "output_type": "execute_result"
    }
   ],
   "source": [
    "y_pred_cls = tf.argmax(y_pred, axis=1)\n",
    "y_pred_cls"
   ]
  },
  {
   "cell_type": "code",
   "execution_count": 169,
   "metadata": {},
   "outputs": [],
   "source": [
    "cross_entropy = tf.nn.softmax_cross_entropy_with_logits(logits=layer_fc2,\n",
    "                                                        labels=y_true)"
   ]
  },
  {
   "cell_type": "code",
   "execution_count": 170,
   "metadata": {
    "collapsed": true
   },
   "outputs": [],
   "source": [
    "cost = tf.reduce_mean(cross_entropy)"
   ]
  },
  {
   "cell_type": "code",
   "execution_count": 171,
   "metadata": {
    "collapsed": true
   },
   "outputs": [],
   "source": [
    "optimizer = tf.train.AdamOptimizer(learning_rate=1e-4).minimize(cost)"
   ]
  },
  {
   "cell_type": "code",
   "execution_count": null,
   "metadata": {
    "collapsed": true
   },
   "outputs": [],
   "source": []
  },
  {
   "cell_type": "code",
   "execution_count": 172,
   "metadata": {},
   "outputs": [],
   "source": [
    "correct_prediction = tf.equal(y_pred_cls, y_true_cls)"
   ]
  },
  {
   "cell_type": "code",
   "execution_count": 173,
   "metadata": {
    "collapsed": true
   },
   "outputs": [],
   "source": [
    "accuracy = tf.reduce_mean(tf.cast(correct_prediction, tf.float32))"
   ]
  },
  {
   "cell_type": "code",
   "execution_count": 174,
   "metadata": {
    "collapsed": true
   },
   "outputs": [],
   "source": [
    "session = tf.Session()"
   ]
  },
  {
   "cell_type": "code",
   "execution_count": 175,
   "metadata": {
    "collapsed": true
   },
   "outputs": [],
   "source": [
    "session.run(tf.global_variables_initializer())"
   ]
  },
  {
   "cell_type": "code",
   "execution_count": 176,
   "metadata": {
    "collapsed": true
   },
   "outputs": [],
   "source": [
    "train_batch_size = data.num_train"
   ]
  },
  {
   "cell_type": "code",
   "execution_count": 177,
   "metadata": {},
   "outputs": [],
   "source": [
    "x_batch, y_true_batch,x_batch_test,y_batch_cls_test,y_test = data.random_batch(batch_size=train_batch_size)"
   ]
  },
  {
   "cell_type": "code",
   "execution_count": 178,
   "metadata": {},
   "outputs": [],
   "source": [
    "total_iterations = 0\n",
    "\n",
    "def optimize(num_iterations,x_batch, y_true_batch):\n",
    "    # Ensure we update the global variable rather than a local copy.\n",
    "    global total_iterations\n",
    "\n",
    "    # Start-time used for printing time-usage below.\n",
    "    start_time = time.time()\n",
    "\n",
    "    for i in range(total_iterations,\n",
    "                   total_iterations + num_iterations):\n",
    "\n",
    "       \n",
    "        feed_dict_train = {x: x_batch,\n",
    "                           y_true: y_true_batch}\n",
    "        \n",
    "   \n",
    "        session.run(optimizer, feed_dict=feed_dict_train)\n",
    "\n",
    "        # Print status every 100 iterations.\n",
    "        if i % 100 == 0:\n",
    "            # Calculate the accuracy on the training-set.\n",
    "            acc = session.run(accuracy, feed_dict=feed_dict_train)\n",
    "\n",
    "            # Message for printing.\n",
    "            msg = \"Optimization Iteration: {0:>6}, Training Accuracy: {1:>6.1%}\"\n",
    "\n",
    "            # Print it.\n",
    "            print(msg.format(i + 1, acc))\n",
    "\n",
    "    # Update the total number of iterations performed.\n",
    "    total_iterations += num_iterations\n",
    "\n",
    "    # Ending time.\n",
    "    end_time = time.time()\n",
    "\n",
    "    # Difference between start and end-times.\n",
    "    time_dif = end_time - start_time\n",
    "\n",
    "    # Print the time-usage.\n",
    "    print(\"Time usage: \" + str(timedelta(seconds=int(round(time_dif)))))"
   ]
  },
  {
   "cell_type": "code",
   "execution_count": 179,
   "metadata": {},
   "outputs": [
    {
     "name": "stdout",
     "output_type": "stream",
     "text": [
      "Optimization Iteration:      1, Training Accuracy:  12.4%\n",
      "Optimization Iteration:    101, Training Accuracy:  60.4%\n",
      "Optimization Iteration:    201, Training Accuracy:  85.0%\n",
      "Optimization Iteration:    301, Training Accuracy:  95.1%\n",
      "Optimization Iteration:    401, Training Accuracy:  98.6%\n",
      "Optimization Iteration:    501, Training Accuracy:  99.5%\n",
      "Optimization Iteration:    601, Training Accuracy:  99.7%\n",
      "Optimization Iteration:    701, Training Accuracy:  99.9%\n",
      "Time usage: 0:04:58\n"
     ]
    }
   ],
   "source": [
    "num_iterations=800\n",
    "optimize(num_iterations,x_batch, y_true_batch)"
   ]
  },
  {
   "cell_type": "code",
   "execution_count": null,
   "metadata": {
    "collapsed": true
   },
   "outputs": [],
   "source": []
  },
  {
   "cell_type": "code",
   "execution_count": 180,
   "metadata": {
    "collapsed": true
   },
   "outputs": [],
   "source": [
    "def plot_images(images, cls_true, cls_pred=None):\n",
    "    #assert len(images) == len(cls_true) == 9\n",
    "    \n",
    "    # Create figure with 3x3 sub-plots.\n",
    "    fig, axes = plt.subplots(2,2 )\n",
    "    fig.subplots_adjust(hspace=0.9, wspace=0.9)\n",
    "\n",
    "    for i, ax in enumerate(axes.flat):\n",
    "        # Plot image.\n",
    "        \n",
    "        ax.imshow(images[i].reshape((50,50,3)),cmap='brg')\n",
    "\n",
    "        # Show true and predicted classes.\n",
    "#         if cls_pred is None:\n",
    "#             xlabel = \"True: {0}\".format(cls_true[i])\n",
    "#         else:\n",
    "#             xlabel = \"True: {0}, Pred: {1}\".format(cls_true[i], cls_pred[i])\n",
    "\n",
    "        # Show the classes as the label on the x-axis.\n",
    "        ax.set_xlabel(\"images from test data\")\n",
    "        \n",
    "        # Remove ticks from the plot.\n",
    "        ax.set_xticks([])\n",
    "        ax.set_yticks([])\n",
    "    \n",
    "    # Ensure the plot is shown correctly with multiple plots\n",
    "    # in a single Notebook cell.\n",
    "    plt.show()"
   ]
  },
  {
   "cell_type": "code",
   "execution_count": 181,
   "metadata": {},
   "outputs": [],
   "source": [
    "cv_img_train = []\n",
    "class_name = []\n",
    "m=0\n",
    "for img in glob.glob(\"/home/rohit/tmp/project_tensorflow/test/*.jpg\"):\n",
    "    i= cv2.imread(img)\n",
    "    if type(i) != np.ndarray:\n",
    "        continue\n",
    "    m=m+1;\n",
    "                #img_size_flat = self.img_size*self.img_size    \n",
    "images = np.zeros((m,2500))\n",
    "n=0\n",
    "x_batch_test_color=[]\n",
    "for img in glob.glob(\"/home/rohit/tmp/project_tensorflow/test/*.jpg\"):        \n",
    "    i= cv2.imread(img)\n",
    "    \n",
    "    if type(i) != np.ndarray:\n",
    "        continue\n",
    "    x_batch_test_color.append(cv2.resize(i, (50, 50)))    \n",
    "    i = cv2.cvtColor(i, cv2.COLOR_BGR2GRAY)\n",
    "    i=cv2.resize(i, (50, 50))\n",
    "    i = i.flatten() \n",
    "    images[n]= i\n",
    "    n=n+1\n",
    "\n",
    "x_test = images \n",
    "x_batch_test = x_test / 255.0\n",
    "y_batch_cls_test = []\n",
    "y_test =[]"
   ]
  },
  {
   "cell_type": "code",
   "execution_count": null,
   "metadata": {
    "collapsed": true
   },
   "outputs": [],
   "source": []
  },
  {
   "cell_type": "code",
   "execution_count": 182,
   "metadata": {},
   "outputs": [
    {
     "data": {
      "image/png": "[encoded data removed]",
      "text/plain": [
       "<matplotlib.figure.Figure at 0x7f656528d978>"
      ]
     },
     "metadata": {},
     "output_type": "display_data"
    }
   ],
   "source": [
    "plot_images(x_batch_test_color,y_test,None)"
   ]
  },
  {
   "cell_type": "code",
   "execution_count": 183,
   "metadata": {
    "collapsed": true
   },
   "outputs": [],
   "source": [
    "def plot_conv_layer(layer, image):\n",
    "    # Assume layer is a TensorFlow op that outputs a 4-dim tensor\n",
    "    # which is the output of a convolutional layer,\n",
    "    # e.g. layer_conv1 or layer_conv2.\n",
    "\n",
    "    # Create a feed-dict containing just one image.\n",
    "    # Note that we don't need to feed y_true because it is\n",
    "    # not used in this calculation.\n",
    "    feed_dict = {x: [image]}\n",
    "\n",
    "    # Calculate and retrieve the output values of the layer\n",
    "    # when inputting that image.\n",
    "    values = session.run(layer, feed_dict=feed_dict)\n",
    "\n",
    "    # Number of filters used in the conv. layer.\n",
    "    num_filters = values.shape[3]\n",
    "\n",
    "    # Number of grids to plot.\n",
    "    # Rounded-up, square-root of the number of filters.\n",
    "    num_grids = math.ceil(math.sqrt(num_filters))\n",
    "    \n",
    "    # Create figure with a grid of sub-plots.\n",
    "    fig, axes = plt.subplots(num_grids, num_grids)\n",
    "\n",
    "    # Plot the output images of all the filters.\n",
    "    for i, ax in enumerate(axes.flat):\n",
    "        # Only plot the images for valid filters.\n",
    "        if i<num_filters:\n",
    "            # Get the output image of using the i'th filter.\n",
    "            # See new_conv_layer() for details on the format\n",
    "            # of this 4-dim tensor.\n",
    "            img = values[0, :, :, i]\n",
    "\n",
    "            # Plot image.\n",
    "            ax.imshow(img, interpolation='nearest', cmap='binary')\n",
    "        \n",
    "        # Remove ticks from the plot.\n",
    "        ax.set_xticks([])\n",
    "        ax.set_yticks([])\n",
    "    \n",
    "    # Ensure the plot is shown correctly with multiple plots\n",
    "    # in a single Notebook cell.\n",
    "    plt.show()"
   ]
  },
  {
   "cell_type": "code",
   "execution_count": 184,
   "metadata": {},
   "outputs": [
    {
     "data": {
      "image/png": "[encoded data removed]",
      "text/plain": [
       "<matplotlib.figure.Figure at 0x7f656563a908>"
      ]
     },
     "metadata": {},
     "output_type": "display_data"
    }
   ],
   "source": [
    "\n",
    "image1 = x_batch_test[10]\n",
    "plot_conv_layer(layer=layer_conv1, image=image1)"
   ]
  },
  {
   "cell_type": "code",
   "execution_count": 192,
   "metadata": {
    "collapsed": true
   },
   "outputs": [],
   "source": [
    "def predicted_labels_scores( x_batch_test,y_batch_cls_test,y_test):\n",
    "                       \n",
    "\n",
    "    # Number of images in the test-set.\n",
    "    \n",
    "    #num_test = data.num_train - train_batch_size\n",
    "    \n",
    "    num_test = len(x_test)\n",
    "    cls_pred = np.zeros(shape=num_test, dtype=np.int)\n",
    "    \n",
    "    images = x_batch_test[:, :]\n",
    "    labels = y_batch_cls_test\n",
    "    \n",
    "    \n",
    "    feed_dict = {x: images}\n",
    "    # score for all classes for all the images\n",
    "    cls_pred = session.run(y_pred, feed_dict=feed_dict)\n",
    "    # maximum score of all classes for all the  image \n",
    "    cls_pred_max = session.run(y_pred_cls,feed_dict=feed_dict)\n",
    "        \n",
    "        \n",
    "    # setting a threshold value of scores below which object is labelled as from class 100 which \n",
    "    # which shows that that image cannot be surely classified to any class.\n",
    "    # this is done in order to prevent present marking against the student who is not present\n",
    "        \n",
    "    for p in range(0,num_test):\n",
    "        if np.amax(cls_pred[p]) < 0.85:\n",
    "            cls_pred_max[p] =100\n",
    "          \n",
    "   \n",
    "    return cls_pred,cls_pred_max    "
   ]
  },
  {
   "cell_type": "code",
   "execution_count": 193,
   "metadata": {},
   "outputs": [],
   "source": [
    "cls_pred_test,cls_pred_max_test=predicted_labels_scores(x_batch_test,y_batch_cls_test,y_test)"
   ]
  },
  {
   "cell_type": "code",
   "execution_count": 194,
   "metadata": {},
   "outputs": [
    {
     "data": {
      "text/plain": [
       "{0: 4, 2: 10, 3: 1, 6: 30, 7: 2, 8: 4, 100: 125}"
      ]
     },
     "execution_count": 194,
     "metadata": {},
     "output_type": "execute_result"
    }
   ],
   "source": [
    "#getting the unique values and how many images in test set are assigned these unique values \n",
    "unique, counts = np.unique(cls_pred_max_test, return_counts=True)\n",
    "dict(zip(unique, counts))\n"
   ]
  },
  {
   "cell_type": "code",
   "execution_count": 196,
   "metadata": {},
   "outputs": [],
   "source": [
    "li =[]\n",
    "for i in range(0,len(unique)):\n",
    "    for roll,index in data.d.items():\n",
    "        if index == unique[i]:\n",
    "            li.append(roll)\n",
    "            "
   ]
  },
  {
   "cell_type": "code",
   "execution_count": 197,
   "metadata": {
    "collapsed": true
   },
   "outputs": [],
   "source": [
    "import pandas as pd\n",
    "import numpy as np"
   ]
  },
  {
   "cell_type": "code",
   "execution_count": 198,
   "metadata": {},
   "outputs": [
    {
     "data": {
      "text/plain": [
       "['16CE30005', '17IM10030', '17IM30010', '16CE30020', '17MA20006', '17IM10015']"
      ]
     },
     "execution_count": 198,
     "metadata": {},
     "output_type": "execute_result"
    }
   ],
   "source": [
    "li"
   ]
  },
  {
   "cell_type": "code",
   "execution_count": 206,
   "metadata": {},
   "outputs": [],
   "source": [
    "classlist = ['16CE30005', '16CE30020','17AE3FP08', '17IM10030', '17IM30010', '17AE10023', '17AE10025', '17MA20006', '17IM10015']\n",
    "df = pd.DataFrame()\n",
    "df['Roll_numbers'] = classlist"
   ]
  },
  {
   "cell_type": "code",
   "execution_count": 207,
   "metadata": {},
   "outputs": [
    {
     "name": "stdout",
     "output_type": "stream",
     "text": [
      "Enter date:13\n"
     ]
    },
    {
     "name": "stderr",
     "output_type": "stream",
     "text": [
      "/home/rohit/anaconda3/lib/python3.6/site-packages/ipykernel/__main__.py:6: SettingWithCopyWarning: \n",
      "A value is trying to be set on a copy of a slice from a DataFrame\n",
      "\n",
      "See the caveats in the documentation: http://pandas.pydata.org/pandas-docs/stable/indexing.html#indexing-view-versus-copy\n"
     ]
    }
   ],
   "source": [
    "date = input('Enter date:')\n",
    "df[date] = 0\n",
    "for i in li:\n",
    "    for k in range(0,len(classlist)):\n",
    "        if df.Roll_numbers[k] == i:\n",
    "            df[date][k] = 1\n",
    "df.to_csv('Attendace.csv')"
   ]
  },
  {
   "cell_type": "code",
   "execution_count": 208,
   "metadata": {},
   "outputs": [
    {
     "data": {
      "text/html": [
       "<div>\n",
       "<table border=\"1\" class=\"dataframe\">\n",
       "  <thead>\n",
       "    <tr style=\"text-align: right;\">\n",
       "      <th></th>\n",
       "      <th>Roll_numbers</th>\n",
       "      <th>13</th>\n",
       "    </tr>\n",
       "  </thead>\n",
       "  <tbody>\n",
       "    <tr>\n",
       "      <th>0</th>\n",
       "      <td>16CE30005</td>\n",
       "      <td>1</td>\n",
       "    </tr>\n",
       "    <tr>\n",
       "      <th>1</th>\n",
       "      <td>16CE30020</td>\n",
       "      <td>1</td>\n",
       "    </tr>\n",
       "    <tr>\n",
       "      <th>2</th>\n",
       "      <td>17AE3FP08</td>\n",
       "      <td>0</td>\n",
       "    </tr>\n",
       "    <tr>\n",
       "      <th>3</th>\n",
       "      <td>17IM10030</td>\n",
       "      <td>1</td>\n",
       "    </tr>\n",
       "    <tr>\n",
       "      <th>4</th>\n",
       "      <td>17IM30010</td>\n",
       "      <td>1</td>\n",
       "    </tr>\n",
       "    <tr>\n",
       "      <th>5</th>\n",
       "      <td>17AE10023</td>\n",
       "      <td>0</td>\n",
       "    </tr>\n",
       "    <tr>\n",
       "      <th>6</th>\n",
       "      <td>17AE10025</td>\n",
       "      <td>0</td>\n",
       "    </tr>\n",
       "    <tr>\n",
       "      <th>7</th>\n",
       "      <td>17MA20006</td>\n",
       "      <td>1</td>\n",
       "    </tr>\n",
       "    <tr>\n",
       "      <th>8</th>\n",
       "      <td>17IM10015</td>\n",
       "      <td>1</td>\n",
       "    </tr>\n",
       "  </tbody>\n",
       "</table>\n",
       "</div>"
      ],
      "text/plain": [
       "  Roll_numbers  13\n",
       "0    16CE30005   1\n",
       "1    16CE30020   1\n",
       "2    17AE3FP08   0\n",
       "3    17IM10030   1\n",
       "4    17IM30010   1\n",
       "5    17AE10023   0\n",
       "6    17AE10025   0\n",
       "7    17MA20006   1\n",
       "8    17IM10015   1"
      ]
     },
     "execution_count": 208,
     "metadata": {},
     "output_type": "execute_result"
    }
   ],
   "source": [
    "df"
   ]
  },
  {
   "cell_type": "code",
   "execution_count": null,
   "metadata": {
    "collapsed": true
   },
   "outputs": [],
   "source": []
  }
 ],
 "metadata": {
  "kernelspec": {
   "display_name": "Python 3",
   "language": "python",
   "name": "python3"
  },
  "language_info": {
   "codemirror_mode": {
    "name": "ipython",
    "version": 3
   },
   "file_extension": ".py",
   "mimetype": "text/x-python",
   "name": "python",
   "nbconvert_exporter": "python",
   "pygments_lexer": "ipython3",
   "version": "3.8.5"
  }
 },
 "nbformat": 4,
 "nbformat_minor": 2
}
